{
 "cells": [
  {
   "attachments": {},
   "cell_type": "markdown",
   "metadata": {},
   "source": [
    "**Import Important Libraries**"
   ]
  },
  {
   "cell_type": "code",
   "execution_count": 1,
   "metadata": {},
   "outputs": [],
   "source": [
    "import numpy as np\n",
    "import pandas as pd\n",
    "\n",
    "import matplotlib.pyplot as plt\n",
    "import seaborn as sns\n",
    "sns.set()"
   ]
  },
  {
   "cell_type": "code",
   "execution_count": 2,
   "metadata": {},
   "outputs": [],
   "source": [
    "#import scipy.sparse.linalg\n",
    "from sklearn.impute import SimpleImputer\n",
    "\n",
    "from sklearn.preprocessing import OrdinalEncoder\n",
    "from sklearn.preprocessing import LabelEncoder\n",
    "from sklearn.preprocessing import StandardScaler\n",
    "from sklearn.preprocessing import OneHotEncoder\n",
    "\n",
    "from sklearn.feature_extraction import FeatureHasher\n",
    "from sklearn.compose import ColumnTransformer"
   ]
  },
  {
   "cell_type": "code",
   "execution_count": 3,
   "metadata": {},
   "outputs": [],
   "source": [
    "from sklearn.model_selection import train_test_split"
   ]
  },
  {
   "cell_type": "code",
   "execution_count": 4,
   "metadata": {},
   "outputs": [],
   "source": [
    "from sklearn.linear_model import LogisticRegression\n",
    "from sklearn.ensemble import RandomForestClassifier\n",
    "import xgboost as xgb"
   ]
  },
  {
   "cell_type": "code",
   "execution_count": 5,
   "metadata": {},
   "outputs": [],
   "source": [
    "from sklearn.metrics import accuracy_score, confusion_matrix"
   ]
  },
  {
   "cell_type": "code",
   "execution_count": 6,
   "metadata": {},
   "outputs": [],
   "source": [
    "#Warnings - Ignore All\n",
    "import warnings\n",
    "warnings.simplefilter('ignore')"
   ]
  },
  {
   "cell_type": "code",
   "execution_count": 7,
   "metadata": {},
   "outputs": [],
   "source": [
    "#Ignore All Warnings About Later Execution\n",
    "import warnings\n",
    "warnings.filterwarnings(\"ignore\", category=FutureWarning)"
   ]
  },
  {
   "attachments": {},
   "cell_type": "markdown",
   "metadata": {},
   "source": [
    "**Data Ingestion**"
   ]
  },
  {
   "cell_type": "code",
   "execution_count": 8,
   "metadata": {},
   "outputs": [],
   "source": [
    "train_values = pd.read_csv('../data/raw/Training set values.csv')\n",
    "train_labels = pd.read_csv('../data/raw/Training set labels.csv')\n",
    "test_values  = pd.read_csv('../data/raw/Test set values.csv')"
   ]
  },
  {
   "attachments": {},
   "cell_type": "markdown",
   "metadata": {},
   "source": [
    "***Data Merge***"
   ]
  },
  {
   "cell_type": "code",
   "execution_count": 9,
   "metadata": {},
   "outputs": [],
   "source": [
    "train_data_complete = pd.merge(train_values, train_labels, left_on='id', right_on='id', how='left').drop('id', axis=1)"
   ]
  },
  {
   "attachments": {},
   "cell_type": "markdown",
   "metadata": {},
   "source": [
    "**Data Cleaning**"
   ]
  },
  {
   "cell_type": "code",
   "execution_count": null,
   "metadata": {},
   "outputs": [],
   "source": [
    "# #Drop Redundant Columns\n",
    "# features_to_drop = ['date_recorded']"
   ]
  },
  {
   "cell_type": "code",
   "execution_count": null,
   "metadata": {},
   "outputs": [],
   "source": [
    "#  train_data_v1 = train_data_complete.drop(features_to_drop, axis=1) "
   ]
  },
  {
   "attachments": {},
   "cell_type": "markdown",
   "metadata": {},
   "source": [
    "***Missing Data Imputation***"
   ]
  },
  {
   "cell_type": "code",
   "execution_count": 10,
   "metadata": {},
   "outputs": [],
   "source": [
    "def print_missing_values(train_data, test_data=None):\n",
    "    \"\"\"\n",
    "    Prints the columns with the number and percentage of missing values in the given datasets.\n",
    "\n",
    "    Parameters:\n",
    "    train_data (pd.DataFrame): the training data\n",
    "    test_data (pd.DataFrame): the test data (optional)\n",
    "\n",
    "    Returns:\n",
    "    None\n",
    "    \"\"\"\n",
    "\n",
    "    print(\"TRAIN DATA:\")\n",
    "\n",
    "    # Compute number and percentage of missing values for train data\n",
    "    missing_values_train = train_data.isnull().sum().sort_values(ascending=False)\n",
    "    percent_missing_train = 100 * train_data.isnull().sum().sort_values(ascending=False) / len(train_data)\n",
    "\n",
    "    # Create a new dataframe with the number and percentage of missing values for train data\n",
    "    missing_data_train = pd.concat([missing_values_train, percent_missing_train], axis=1, keys=['Missing Values', '% Missing'])\n",
    "\n",
    "    # Print the columns with missing values for train data\n",
    "    print(missing_data_train[missing_data_train['Missing Values'] > 0])\n",
    "\n",
    "    # If test data is provided, compute and print the number and percentage of missing values for test data\n",
    "    if test_data is not None:\n",
    "        print(\"\\nTEST DATA:\")\n",
    "\n",
    "        missing_values_test = test_data.isnull().sum().sort_values(ascending=False)\n",
    "        percent_missing_test = 100 * test_data.isnull().sum().sort_values(ascending=False) / len(test_data)\n",
    "\n",
    "        missing_data_test = pd.concat([missing_values_test, percent_missing_test], axis=1, keys=['Missing Values', '% Missing'])\n",
    "\n",
    "        print(missing_data_test[missing_data_test['Missing Values'] > 0])\n"
   ]
  },
  {
   "cell_type": "code",
   "execution_count": 11,
   "metadata": {},
   "outputs": [
    {
     "name": "stdout",
     "output_type": "stream",
     "text": [
      "TRAIN DATA:\n",
      "                   Missing Values  % Missing\n",
      "scheme_name                 28166  47.417508\n",
      "scheme_management            3877   6.526936\n",
      "installer                    3655   6.153199\n",
      "funder                       3635   6.119529\n",
      "public_meeting               3334   5.612795\n",
      "permit                       3056   5.144781\n",
      "subvillage                    371   0.624579\n",
      "\n",
      "TEST DATA:\n",
      "                   Missing Values  % Missing\n",
      "scheme_name                  7092  47.757576\n",
      "scheme_management             969   6.525253\n",
      "installer                     877   5.905724\n",
      "funder                        869   5.851852\n",
      "public_meeting                821   5.528620\n",
      "permit                        737   4.962963\n",
      "subvillage                     99   0.666667\n"
     ]
    }
   ],
   "source": [
    "print_missing_values(train_values, test_values)"
   ]
  },
  {
   "cell_type": "code",
   "execution_count": 13,
   "metadata": {},
   "outputs": [],
   "source": [
    "def delete_missing_value_columns(train_df, test_df=None, threshold=0.7):\n",
    "    \"\"\"\n",
    "    Delete columns from train and test DataFrames if the missing value percentage is greater than a threshold.\n",
    "\n",
    "    Parameters:\n",
    "    train_df (pandas.DataFrame): The training DataFrame to delete columns from.\n",
    "    test_df (pandas.DataFrame, optional): The test DataFrame to delete columns from. Default is None.\n",
    "    threshold (float, optional): The maximum missing value percentage allowed before a column is deleted.\n",
    "                                 Default is 0.7.\n",
    "\n",
    "    Returns:\n",
    "    tuple: A tuple containing the cleaned training DataFrame and test DataFrame (if provided).\n",
    "    \"\"\"\n",
    "    # Calculate the missing value percentage for each column in the training data\n",
    "    train_missing_values = train_df.isnull().mean()\n",
    "\n",
    "    # Identify the columns where the missing value percentage is greater than the threshold\n",
    "    train_columns_to_delete = train_missing_values[train_missing_values > threshold].index.tolist()\n",
    "\n",
    "    # Delete the identified columns from the training data\n",
    "    train_df = train_df.drop(train_columns_to_delete, axis=1)\n",
    "\n",
    "    # Delete the same columns from the test data, if provided\n",
    "    if test_df is not None:\n",
    "        test_columns_to_delete = list(set(train_columns_to_delete) & set(test_df.columns.tolist()))\n",
    "        test_df = test_df.drop(test_columns_to_delete, axis=1)\n",
    "\n",
    "    # Return the cleaned data\n",
    "    if test_df is not None:\n",
    "        return train_df, test_df\n",
    "    else:\n",
    "        return train_df\n"
   ]
  },
  {
   "cell_type": "code",
   "execution_count": 14,
   "metadata": {},
   "outputs": [],
   "source": [
    "train_values_v1, test_values_v1 = delete_missing_value_columns(train_values, test_values)"
   ]
  },
  {
   "cell_type": "code",
   "execution_count": 15,
   "metadata": {},
   "outputs": [],
   "source": [
    "def impute_missing_values(train_data, test_data=None):\n",
    "    \"\"\"\n",
    "    Impute missing values in the continuous and categorical columns of the given datasets using SimpleImputer.\n",
    "\n",
    "    Parameters:\n",
    "    train_data (pd.DataFrame): the training data to fit the imputers on\n",
    "    test_data (pd.DataFrame): the test data to transform with the fitted imputers (optional)\n",
    "\n",
    "    Returns:\n",
    "    pd.DataFrame: the transformed training data\n",
    "    pd.DataFrame: the transformed test data (if test_data is not None)\n",
    "    \"\"\"\n",
    "\n",
    "    # Get continuous and categorical columns\n",
    "    continuous_columns = train_data.select_dtypes(include=[np.number]).columns.tolist()\n",
    "    categorical_columns = train_data.select_dtypes(include=['object', 'category']).columns.tolist()\n",
    "\n",
    "    # Create imputers for continuous and categorical columns\n",
    "    continuous_imputer = SimpleImputer(strategy='mean')\n",
    "    categorical_imputer = SimpleImputer(strategy='most_frequent')\n",
    "\n",
    "    # Fit and transform the imputers on train data\n",
    "    if len(continuous_columns) > 0:\n",
    "        train_data[continuous_columns] = continuous_imputer.fit_transform(train_data[continuous_columns])\n",
    "\n",
    "    if len(categorical_columns) > 0:\n",
    "        train_data[categorical_columns] = categorical_imputer.fit_transform(train_data[categorical_columns])\n",
    "\n",
    "    # Transform the imputers on test data\n",
    "    if test_data is not None:\n",
    "        if len(continuous_columns) > 0:\n",
    "            test_data[continuous_columns] = continuous_imputer.transform(test_data[continuous_columns])\n",
    "\n",
    "        if len(categorical_columns) > 0:\n",
    "            test_data[categorical_columns] = categorical_imputer.transform(test_data[categorical_columns])\n",
    "\n",
    "    # Return transformed train and test data (if applicable)\n",
    "    if test_data is not None:\n",
    "        return train_data, test_data\n",
    "    else:\n",
    "        return train_data\n"
   ]
  },
  {
   "cell_type": "code",
   "execution_count": 16,
   "metadata": {},
   "outputs": [],
   "source": [
    "train_values_v2, test_values_v2 = delete_missing_value_columns(train_values_v1, test_values_v1)"
   ]
  },
  {
   "attachments": {},
   "cell_type": "markdown",
   "metadata": {},
   "source": [
    "**Data Preprocessing**"
   ]
  },
  {
   "attachments": {},
   "cell_type": "markdown",
   "metadata": {},
   "source": [
    "***Transforming Data***"
   ]
  },
  {
   "cell_type": "code",
   "execution_count": 17,
   "metadata": {},
   "outputs": [],
   "source": [
    "class FrequencyEncoder():\n",
    "    \"\"\"\n",
    "    FrequencyEncoder\n",
    "    Conversion of category into frequencies.\n",
    "    Parameters\n",
    "        ----------\n",
    "    cols : list of categorical features.\n",
    "    drop_invariant : not used\n",
    "    \"\"\"\n",
    "    def __init__(self, cols=None, drop_invariant=None):\n",
    "        \"\"\"\n",
    "        Description of __init__\n",
    "        Args:\n",
    "            cols=None (undefined): columns in dataset\n",
    "            drop_invariant=None (undefined): not used\n",
    "        \"\"\"\n",
    "        self.cols = cols\n",
    "        self.counts_dict = None\n",
    "\n",
    "    def fit(self, X: pd.DataFrame, y=None) -> pd.DataFrame:\n",
    "        \"\"\"\n",
    "        Description of fit\n",
    "        Args:\n",
    "            X (pd.DataFrame): dataset\n",
    "            y=None (not used): not used\n",
    "        Returns:\n",
    "            pd.DataFrame\n",
    "        \"\"\"\n",
    "        counts_dict = {}\n",
    "        if self.cols is None:\n",
    "            self.cols = X.columns\n",
    "        for col in self.cols:\n",
    "            values = X[col].value_counts(dropna=False).index\n",
    "            n_obs = float(len(X))\n",
    "            counts = list(X[col].value_counts(dropna=False) / n_obs)\n",
    "            counts_dict[col] = dict(zip(values, counts))\n",
    "        self.counts_dict = counts_dict\n",
    "\n",
    "    def transform(self, X: pd.DataFrame) -> pd.DataFrame:\n",
    "        \"\"\"\n",
    "        Description of transform\n",
    "        Args:\n",
    "            X (pd.DataFrame): dataset\n",
    "        Returns:\n",
    "            pd.DataFrame\n",
    "        \"\"\"\n",
    "        counts_dict_test = {}\n",
    "        res = []\n",
    "        for col in self.cols:\n",
    "            values = X[col].value_counts(1,dropna=False).index.tolist()\n",
    "            counts = X[col].value_counts(1,dropna=False).values.tolist()\n",
    "            counts_dict_test[col] = dict(zip(values, counts))\n",
    "\n",
    "            # if value is in \"train\" keys - replace \"test\" counts with \"train\" counts\n",
    "            for k in [\n",
    "                key\n",
    "                for key in counts_dict_test[col].keys()\n",
    "                if key in self.counts_dict[col].keys()\n",
    "            ]:\n",
    "                counts_dict_test[col][k] = self.counts_dict[col][k]\n",
    "            res.append(X[col].map(counts_dict_test[col]).values.reshape(-1, 1))\n",
    "        try:\n",
    "            res = np.hstack(res)\n",
    "        except:\n",
    "            pdb.set_trace()\n",
    "        X[self.cols] = res\n",
    "        return X\n",
    "\n",
    "    def fit_transform(self, X: pd.DataFrame, y=None) -> pd.DataFrame:\n",
    "        \"\"\"\n",
    "        Description of fit_transform\n",
    "        Args:\n",
    "            X (pd.DataFrame): dataset\n",
    "            y=None (undefined): not used\n",
    "        Returns:\n",
    "            pd.DataFrame\n",
    "        \"\"\"\n",
    "        self.fit(X, y)\n",
    "        X = self.transform(X)\n",
    "        return X"
   ]
  },
  {
   "cell_type": "code",
   "execution_count": 18,
   "metadata": {},
   "outputs": [],
   "source": [
    "def transform_data(train_data, test_data):\n",
    "    \n",
    "    # Separate continuous and categorical columns\n",
    "    continuous_features = train_data.select_dtypes(include=['float64', 'int64']).columns.tolist()\n",
    "    categorical_features = train_data.select_dtypes(include=['object']).columns.tolist()\n",
    "    \n",
    "    # Scale continuous features\n",
    "    scaler = StandardScaler()\n",
    "    train_data[continuous_features] = scaler.fit_transform(train_data[continuous_features])\n",
    "    test_data[continuous_features] = scaler.transform(test_data[continuous_features])\n",
    "\n",
    "\n",
    "    encoder = FrequencyEncoder()\n",
    "    train_data[categorical_features] = encoder.fit_transform(train_data[categorical_features])\n",
    "    test_data[categorical_features] = encoder.transform(test_data[categorical_features])\n",
    "\n",
    "    return train_data, test_data\n"
   ]
  },
  {
   "cell_type": "code",
   "execution_count": 19,
   "metadata": {},
   "outputs": [],
   "source": [
    "train_values_v3, test_values_v3 = transform_data(train_values_v2, test_values_v2)"
   ]
  },
  {
   "attachments": {},
   "cell_type": "markdown",
   "metadata": {},
   "source": [
    "***Feature Selection***"
   ]
  },
  {
   "cell_type": "code",
   "execution_count": 21,
   "metadata": {},
   "outputs": [],
   "source": [
    "from sklearn.feature_selection import mutual_info_classif\n",
    "from sklearn.preprocessing import LabelEncoder\n",
    "\n",
    "def select_features(X, y, num_features):\n",
    "    \"\"\"\n",
    "    Select the top 'num_features' features based on mutual information with the target variable.\n",
    "    X: pandas dataframe of features, can include continuous and categorical variables.\n",
    "    y: pandas series of target variable.\n",
    "    num_features: number of features to select.\n",
    "    \"\"\"\n",
    "    # Encode categorical variables if any\n",
    "    label_encoder = LabelEncoder()\n",
    "    for col in X.select_dtypes(include=['object']):\n",
    "        X[col] = label_encoder.fit_transform(X[col])\n",
    "\n",
    "    # Compute mutual information scores for each feature\n",
    "    mi_scores = mutual_info_classif(X, y, random_state=42)\n",
    "\n",
    "    # Combine scores with feature names\n",
    "    feature_scores = dict(zip(X.columns, mi_scores))\n",
    "\n",
    "    # Select top features based on scores\n",
    "    top_features = sorted(feature_scores, key=feature_scores.get, reverse=True)[:num_features]\n",
    "\n",
    "    return top_features"
   ]
  },
  {
   "cell_type": "code",
   "execution_count": 22,
   "metadata": {},
   "outputs": [],
   "source": [
    "top_features = select_features(train_values_v3,train_labels['status_group'], 10)"
   ]
  },
  {
   "cell_type": "code",
   "execution_count": 23,
   "metadata": {},
   "outputs": [],
   "source": [
    "train_values_v4, test_values_v4 = train_values_v3[top_features], test_values_v3[top_features]"
   ]
  },
  {
   "attachments": {},
   "cell_type": "markdown",
   "metadata": {},
   "source": [
    "***Feature Engineering***"
   ]
  },
  {
   "cell_type": "code",
   "execution_count": null,
   "metadata": {},
   "outputs": [],
   "source": []
  },
  {
   "attachments": {},
   "cell_type": "markdown",
   "metadata": {},
   "source": [
    "**Modeling**"
   ]
  },
  {
   "cell_type": "code",
   "execution_count": 24,
   "metadata": {},
   "outputs": [],
   "source": [
    "X = train_values_v4"
   ]
  },
  {
   "cell_type": "code",
   "execution_count": 25,
   "metadata": {},
   "outputs": [],
   "source": [
    "le = LabelEncoder()\n",
    "\n",
    "Y  = le.fit_transform(train_labels['status_group'])"
   ]
  },
  {
   "cell_type": "code",
   "execution_count": 26,
   "metadata": {},
   "outputs": [],
   "source": [
    "X_train, X_test, y_train, y_test = train_test_split(X, Y, stratify=Y, test_size = 0.3, random_state = 42)"
   ]
  },
  {
   "cell_type": "code",
   "execution_count": 27,
   "metadata": {},
   "outputs": [],
   "source": [
    "from sklearn.neighbors import KNeighborsClassifier"
   ]
  },
  {
   "cell_type": "code",
   "execution_count": 28,
   "metadata": {},
   "outputs": [
    {
     "data": {
      "text/html": [
       "<style>#sk-container-id-1 {color: black;background-color: white;}#sk-container-id-1 pre{padding: 0;}#sk-container-id-1 div.sk-toggleable {background-color: white;}#sk-container-id-1 label.sk-toggleable__label {cursor: pointer;display: block;width: 100%;margin-bottom: 0;padding: 0.3em;box-sizing: border-box;text-align: center;}#sk-container-id-1 label.sk-toggleable__label-arrow:before {content: \"▸\";float: left;margin-right: 0.25em;color: #696969;}#sk-container-id-1 label.sk-toggleable__label-arrow:hover:before {color: black;}#sk-container-id-1 div.sk-estimator:hover label.sk-toggleable__label-arrow:before {color: black;}#sk-container-id-1 div.sk-toggleable__content {max-height: 0;max-width: 0;overflow: hidden;text-align: left;background-color: #f0f8ff;}#sk-container-id-1 div.sk-toggleable__content pre {margin: 0.2em;color: black;border-radius: 0.25em;background-color: #f0f8ff;}#sk-container-id-1 input.sk-toggleable__control:checked~div.sk-toggleable__content {max-height: 200px;max-width: 100%;overflow: auto;}#sk-container-id-1 input.sk-toggleable__control:checked~label.sk-toggleable__label-arrow:before {content: \"▾\";}#sk-container-id-1 div.sk-estimator input.sk-toggleable__control:checked~label.sk-toggleable__label {background-color: #d4ebff;}#sk-container-id-1 div.sk-label input.sk-toggleable__control:checked~label.sk-toggleable__label {background-color: #d4ebff;}#sk-container-id-1 input.sk-hidden--visually {border: 0;clip: rect(1px 1px 1px 1px);clip: rect(1px, 1px, 1px, 1px);height: 1px;margin: -1px;overflow: hidden;padding: 0;position: absolute;width: 1px;}#sk-container-id-1 div.sk-estimator {font-family: monospace;background-color: #f0f8ff;border: 1px dotted black;border-radius: 0.25em;box-sizing: border-box;margin-bottom: 0.5em;}#sk-container-id-1 div.sk-estimator:hover {background-color: #d4ebff;}#sk-container-id-1 div.sk-parallel-item::after {content: \"\";width: 100%;border-bottom: 1px solid gray;flex-grow: 1;}#sk-container-id-1 div.sk-label:hover label.sk-toggleable__label {background-color: #d4ebff;}#sk-container-id-1 div.sk-serial::before {content: \"\";position: absolute;border-left: 1px solid gray;box-sizing: border-box;top: 0;bottom: 0;left: 50%;z-index: 0;}#sk-container-id-1 div.sk-serial {display: flex;flex-direction: column;align-items: center;background-color: white;padding-right: 0.2em;padding-left: 0.2em;position: relative;}#sk-container-id-1 div.sk-item {position: relative;z-index: 1;}#sk-container-id-1 div.sk-parallel {display: flex;align-items: stretch;justify-content: center;background-color: white;position: relative;}#sk-container-id-1 div.sk-item::before, #sk-container-id-1 div.sk-parallel-item::before {content: \"\";position: absolute;border-left: 1px solid gray;box-sizing: border-box;top: 0;bottom: 0;left: 50%;z-index: -1;}#sk-container-id-1 div.sk-parallel-item {display: flex;flex-direction: column;z-index: 1;position: relative;background-color: white;}#sk-container-id-1 div.sk-parallel-item:first-child::after {align-self: flex-end;width: 50%;}#sk-container-id-1 div.sk-parallel-item:last-child::after {align-self: flex-start;width: 50%;}#sk-container-id-1 div.sk-parallel-item:only-child::after {width: 0;}#sk-container-id-1 div.sk-dashed-wrapped {border: 1px dashed gray;margin: 0 0.4em 0.5em 0.4em;box-sizing: border-box;padding-bottom: 0.4em;background-color: white;}#sk-container-id-1 div.sk-label label {font-family: monospace;font-weight: bold;display: inline-block;line-height: 1.2em;}#sk-container-id-1 div.sk-label-container {text-align: center;}#sk-container-id-1 div.sk-container {/* jupyter's `normalize.less` sets `[hidden] { display: none; }` but bootstrap.min.css set `[hidden] { display: none !important; }` so we also need the `!important` here to be able to override the default hidden behavior on the sphinx rendered scikit-learn.org. See: https://github.com/scikit-learn/scikit-learn/issues/21755 */display: inline-block !important;position: relative;}#sk-container-id-1 div.sk-text-repr-fallback {display: none;}</style><div id=\"sk-container-id-1\" class=\"sk-top-container\"><div class=\"sk-text-repr-fallback\"><pre>KNeighborsClassifier(n_neighbors=14)</pre><b>In a Jupyter environment, please rerun this cell to show the HTML representation or trust the notebook. <br />On GitHub, the HTML representation is unable to render, please try loading this page with nbviewer.org.</b></div><div class=\"sk-container\" hidden><div class=\"sk-item\"><div class=\"sk-estimator sk-toggleable\"><input class=\"sk-toggleable__control sk-hidden--visually\" id=\"sk-estimator-id-1\" type=\"checkbox\" checked><label for=\"sk-estimator-id-1\" class=\"sk-toggleable__label sk-toggleable__label-arrow\">KNeighborsClassifier</label><div class=\"sk-toggleable__content\"><pre>KNeighborsClassifier(n_neighbors=14)</pre></div></div></div></div></div>"
      ],
      "text/plain": [
       "KNeighborsClassifier(n_neighbors=14)"
      ]
     },
     "execution_count": 28,
     "metadata": {},
     "output_type": "execute_result"
    }
   ],
   "source": [
    "classifier = KNeighborsClassifier(n_neighbors = 14)\n",
    "classifier.fit(X_train, y_train)"
   ]
  },
  {
   "cell_type": "code",
   "execution_count": 29,
   "metadata": {},
   "outputs": [],
   "source": [
    "test_predictions = classifier.predict(test_values_v4)"
   ]
  },
  {
   "cell_type": "code",
   "execution_count": 30,
   "metadata": {},
   "outputs": [],
   "source": [
    "submission_df = pd.DataFrame({'id': test_values['id'], 'target': test_predictions})"
   ]
  },
  {
   "cell_type": "code",
   "execution_count": 31,
   "metadata": {},
   "outputs": [],
   "source": [
    "submission_df['status_group'] = submission_df['target'].map({0:'functional', 1:'non functional',2:'functional needs repair'})"
   ]
  },
  {
   "cell_type": "code",
   "execution_count": 32,
   "metadata": {},
   "outputs": [],
   "source": [
    "submission_df.to_csv('submission_v2.csv', index=False)"
   ]
  }
 ],
 "metadata": {
  "kernelspec": {
   "display_name": "machine-learning",
   "language": "python",
   "name": "python3"
  },
  "language_info": {
   "codemirror_mode": {
    "name": "ipython",
    "version": 3
   },
   "file_extension": ".py",
   "mimetype": "text/x-python",
   "name": "python",
   "nbconvert_exporter": "python",
   "pygments_lexer": "ipython3",
   "version": "3.8.16"
  },
  "orig_nbformat": 4
 },
 "nbformat": 4,
 "nbformat_minor": 2
}
